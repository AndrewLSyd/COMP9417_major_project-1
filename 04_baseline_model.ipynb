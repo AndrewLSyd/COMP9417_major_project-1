{
 "cells": [
  {
   "cell_type": "code",
   "execution_count": 16,
   "metadata": {},
   "outputs": [],
   "source": [
    "import os\n",
    "import sys\n",
    "import pickle\n",
    "from copy import deepcopy\n",
    "from collections import defaultdict\n",
    "from pprint import pprint\n",
    "import numpy as np\n",
    "import pandas as pd\n",
    "\n",
    "from sklearn.metrics import log_loss, mean_squared_error"
   ]
  },
  {
   "cell_type": "code",
   "execution_count": 4,
   "metadata": {},
   "outputs": [],
   "source": [
    "def import_data(data):    \n",
    "    return pd.read_csv(\"train_test_data/\" + data + \".csv\", index_col=\"uid\").drop(\"Unnamed: 0\", axis=\"columns\")        \n",
    "X_train = import_data(\"X_train\")\n",
    "X_test = import_data(\"X_test\")\n",
    "y_train = import_data(\"y_train\")\n",
    "y_test = import_data(\"y_test\")\n",
    "\n",
    "y_train = y_train[[e for e in y_train.columns if 'post' in e]]\n",
    "y_test  =  y_test[[e for e in y_test.columns  if 'post' in e]]\n",
    "train_cols = X_train.columns.tolist()\n",
    "target_cols = y_train.columns.tolist()"
   ]
  },
  {
   "cell_type": "code",
   "execution_count": 21,
   "metadata": {},
   "outputs": [
    {
     "data": {
      "text/plain": [
       "(9, 12)"
      ]
     },
     "execution_count": 21,
     "metadata": {},
     "output_type": "execute_result"
    }
   ],
   "source": [
    "y_test.shape"
   ]
  },
  {
   "cell_type": "code",
   "execution_count": 5,
   "metadata": {},
   "outputs": [],
   "source": [
    "# remove rows where targets all all NA\n",
    "train = pd.concat([y_train, X_train], axis = 1)\n",
    "train = train.dropna(how = 'all', subset = ['panas_pos_imp_post', 'panas_neg_imp_post', 'panas_pos_imp_post'])\n",
    "test  = pd.concat([y_test, X_test], axis = 1)\n",
    "test = test.dropna(how = 'all', subset = ['panas_pos_imp_post', 'panas_neg_imp_post', 'panas_pos_imp_post'])"
   ]
  },
  {
   "cell_type": "code",
   "execution_count": 22,
   "metadata": {},
   "outputs": [],
   "source": [
    "test_score = dict()\n",
    "for target in target_cols:\n",
    "    if '_class_' in target:\n",
    "        test_score[target] = log_loss(y_test[target], np.repeat(y_train[target].mean(), y_test.shape[0]))\n",
    "    else:\n",
    "        test_score[target] = mean_squared_error(y_test[target], np.repeat(y_train[target].mean(), y_test.shape[0]))"
   ]
  },
  {
   "cell_type": "code",
   "execution_count": 24,
   "metadata": {},
   "outputs": [
    {
     "name": "stdout",
     "output_type": "stream",
     "text": [
      "target panas_pos_raw_post MSE = 37.8894\n",
      "target panas_neg_raw_post MSE = 45.2989\n",
      "target flourishing_scale_raw_post MSE = 51.0240\n",
      "target panas_pos_imp_post MSE = 39.8267\n",
      "target panas_neg_imp_post MSE = 45.2989\n",
      "target flourishing_scale_imp_post MSE = 51.0240\n",
      "target panas_pos_raw_class_post Log loss = 0.7052\n",
      "target panas_neg_raw_class_post Log loss = 0.6872\n",
      "target flourishing_scale_raw_class_post Log loss = 0.6931\n",
      "target panas_pos_imp_class_post Log loss = 0.7176\n",
      "target panas_neg_imp_class_post Log loss = 0.6872\n",
      "target flourishing_scale_imp_class_post Log loss = 0.6931\n"
     ]
    }
   ],
   "source": [
    "for target in target_cols:\n",
    "    print(f'target {target} {\"Log loss\" if \"_class_\" in target else \"MSE\"} = {test_score[target]:.4f}')"
   ]
  },
  {
   "cell_type": "code",
   "execution_count": null,
   "metadata": {},
   "outputs": [],
   "source": []
  }
 ],
 "metadata": {
  "kernelspec": {
   "display_name": "Python 3",
   "language": "python",
   "name": "python3"
  },
  "language_info": {
   "codemirror_mode": {
    "name": "ipython",
    "version": 3
   },
   "file_extension": ".py",
   "mimetype": "text/x-python",
   "name": "python",
   "nbconvert_exporter": "python",
   "pygments_lexer": "ipython3",
   "version": "3.7.3"
  }
 },
 "nbformat": 4,
 "nbformat_minor": 2
}
