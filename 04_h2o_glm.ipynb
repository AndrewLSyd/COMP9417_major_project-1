{
 "cells": [
  {
   "cell_type": "code",
   "execution_count": 1,
   "metadata": {},
   "outputs": [],
   "source": [
    "import os\n",
    "import sys\n",
    "from copy import deepcopy\n",
    "import numpy as np\n",
    "import pandas as pd\n",
    "import h2o\n",
    "from h2o.estimators.glm import H2OGeneralizedLinearEstimator\n",
    "from h2o.grid.grid_search import H2OGridSearch\n",
    "import shap"
   ]
  },
  {
   "cell_type": "code",
   "execution_count": 2,
   "metadata": {},
   "outputs": [
    {
     "name": "stdout",
     "output_type": "stream",
     "text": [
      "Checking whether there is an H2O instance running at http://localhost:54321 ..... not found.\n",
      "Attempting to start a local H2O server...\n",
      "  Java Version: openjdk version \"1.8.0_222\"; OpenJDK Runtime Environment (build 1.8.0_222-8u222-b10-1ubuntu1~18.04.1-b10); OpenJDK 64-Bit Server VM (build 25.222-b10, mixed mode)\n",
      "  Starting server from /home/aaron/anaconda3/lib/python3.7/site-packages/h2o/backend/bin/h2o.jar\n",
      "  Ice root: /tmp/tmp8kau7bn7\n",
      "  JVM stdout: /tmp/tmp8kau7bn7/h2o_aaron_started_from_python.out\n",
      "  JVM stderr: /tmp/tmp8kau7bn7/h2o_aaron_started_from_python.err\n",
      "  Server is running at http://127.0.0.1:54321\n",
      "Connecting to H2O server at http://127.0.0.1:54321 ... successful.\n"
     ]
    },
    {
     "data": {
      "text/html": [
       "<div style=\"overflow:auto\"><table style=\"width:50%\"><tr><td>H2O cluster uptime:</td>\n",
       "<td>01 secs</td></tr>\n",
       "<tr><td>H2O cluster timezone:</td>\n",
       "<td>Australia/Sydney</td></tr>\n",
       "<tr><td>H2O data parsing timezone:</td>\n",
       "<td>UTC</td></tr>\n",
       "<tr><td>H2O cluster version:</td>\n",
       "<td>3.26.0.10</td></tr>\n",
       "<tr><td>H2O cluster version age:</td>\n",
       "<td>10 days </td></tr>\n",
       "<tr><td>H2O cluster name:</td>\n",
       "<td>H2O_from_python_aaron_cs4g0y</td></tr>\n",
       "<tr><td>H2O cluster total nodes:</td>\n",
       "<td>1</td></tr>\n",
       "<tr><td>H2O cluster free memory:</td>\n",
       "<td>7.111 Gb</td></tr>\n",
       "<tr><td>H2O cluster total cores:</td>\n",
       "<td>4</td></tr>\n",
       "<tr><td>H2O cluster allowed cores:</td>\n",
       "<td>3</td></tr>\n",
       "<tr><td>H2O cluster status:</td>\n",
       "<td>accepting new members, healthy</td></tr>\n",
       "<tr><td>H2O connection url:</td>\n",
       "<td>http://127.0.0.1:54321</td></tr>\n",
       "<tr><td>H2O connection proxy:</td>\n",
       "<td>{'http': None, 'https': None}</td></tr>\n",
       "<tr><td>H2O internal security:</td>\n",
       "<td>False</td></tr>\n",
       "<tr><td>H2O API Extensions:</td>\n",
       "<td>Amazon S3, XGBoost, Algos, AutoML, Core V3, TargetEncoder, Core V4</td></tr>\n",
       "<tr><td>Python version:</td>\n",
       "<td>3.7.2 final</td></tr></table></div>"
      ],
      "text/plain": [
       "--------------------------  ------------------------------------------------------------------\n",
       "H2O cluster uptime:         01 secs\n",
       "H2O cluster timezone:       Australia/Sydney\n",
       "H2O data parsing timezone:  UTC\n",
       "H2O cluster version:        3.26.0.10\n",
       "H2O cluster version age:    10 days\n",
       "H2O cluster name:           H2O_from_python_aaron_cs4g0y\n",
       "H2O cluster total nodes:    1\n",
       "H2O cluster free memory:    7.111 Gb\n",
       "H2O cluster total cores:    4\n",
       "H2O cluster allowed cores:  3\n",
       "H2O cluster status:         accepting new members, healthy\n",
       "H2O connection url:         http://127.0.0.1:54321\n",
       "H2O connection proxy:       {'http': None, 'https': None}\n",
       "H2O internal security:      False\n",
       "H2O API Extensions:         Amazon S3, XGBoost, Algos, AutoML, Core V3, TargetEncoder, Core V4\n",
       "Python version:             3.7.2 final\n",
       "--------------------------  ------------------------------------------------------------------"
      ]
     },
     "metadata": {},
     "output_type": "display_data"
    }
   ],
   "source": [
    "# start a h2o instance to fit GLM models\n",
    "# pick settings so things run fast but don't use all system resources\n",
    "h2o.init(nthreads = 3, max_mem_size = \"8G\")"
   ]
  },
  {
   "cell_type": "code",
   "execution_count": 3,
   "metadata": {},
   "outputs": [],
   "source": [
    "def import_data(data):    \n",
    "    return pd.read_csv(\"train_test_data/\" + data + \".csv\", index_col=\"uid\").drop(\"Unnamed: 0\", axis=\"columns\")        \n",
    "X_train = import_data(\"X_train\")\n",
    "X_test = import_data(\"X_test\")\n",
    "y_train = import_data(\"y_train\")\n",
    "y_test = import_data(\"y_test\")\n",
    "\n",
    "y_train = y_train[[e for e in y_train.columns if 'post' in e]]\n",
    "y_test  =  y_test[[e for e in y_test.columns  if 'post' in e]]\n",
    "train_cols = X_train.columns.tolist()"
   ]
  },
  {
   "cell_type": "code",
   "execution_count": null,
   "metadata": {},
   "outputs": [],
   "source": [
    "train = pd.concat([y_train, X_train], axis = 1)\n",
    "train = train.dropna(how = 'all', subset = ['panas_pos_imp_post', 'panas_neg_imp_post', 'panas_pos_imp_post'])\n",
    "test  = pd.concat([y_test, X_test], axis = 1)\n",
    "test = test.dropna(how = 'all', subset = ['panas_pos_imp_post', 'panas_neg_imp_post', 'panas_pos_imp_post'])"
   ]
  },
  {
   "cell_type": "code",
   "execution_count": null,
   "metadata": {},
   "outputs": [
    {
     "name": "stdout",
     "output_type": "stream",
     "text": [
      "Parse progress: |█████████████████████████████████████████████████████████| 100%\n",
      "Parse progress: |█████████████████████████████████████████████████████████| 100%\n"
     ]
    }
   ],
   "source": [
    "# h2o likes to convert mostly na values into categories. so\n",
    "# we copy the pandas type mapping across\n",
    "col_types = dict(train.dtypes)\n",
    "replacements = {'float64': 'real',\n",
    "                'int64': 'int'}\n",
    "for e in col_types:\n",
    "    col_types[e] = replacements[str(col_types[e])]\n",
    " \n",
    "train_h2o = h2o.H2OFrame(train, column_types = col_types)\n",
    "test_h2o  = h2o.H2OFrame(test, column_types = col_types)"
   ]
  },
  {
   "cell_type": "code",
   "execution_count": null,
   "metadata": {
    "scrolled": true
   },
   "outputs": [
    {
     "name": "stdout",
     "output_type": "stream",
     "text": [
      "searching for best model for target panas_pos_raw_post\n",
      "searching in family gaussian\n",
      "glm Grid Build progress: |████████████████████████████████████████████████| 100%\n",
      "Hyperparameters: [alpha]\n",
      "Hyperparameters: [alpha]\n",
      "Hyperparameters: [alpha]\n",
      "Hyperparameters: [alpha]\n",
      "Hyperparameters: [alpha]\n",
      "Hyperparameters: [alpha]\n",
      "Hyperparameters: [alpha]\n",
      "Hyperparameters: [alpha]\n",
      "Hyperparameters: [alpha]\n",
      "Hyperparameters: [alpha]\n",
      "Hyperparameters: [alpha]\n",
      "Hyperparameters: [alpha]\n",
      "Hyperparameters: [alpha]\n",
      "Hyperparameters: [alpha]\n",
      "Hyperparameters: [alpha]\n",
      "Hyperparameters: [alpha]\n",
      "Hyperparameters: [alpha]\n",
      "Hyperparameters: [alpha]\n",
      "Hyperparameters: [alpha]\n",
      "Hyperparameters: [alpha]\n",
      "Hyperparameters: [alpha]\n",
      "new best model is gaussian\n",
      "searching in family gamma\n",
      "glm Grid Build progress: |███████████████"
     ]
    }
   ],
   "source": [
    "all_models = dict()\n",
    "best_models = dict()\n",
    "for target in y_train.columns:\n",
    "    print(f\"searching for best model for target {target}\")\n",
    "    if 'class' in target: \n",
    "        families = ['binomial']\n",
    "        metric_name = 'logloss'\n",
    "    else:\n",
    "        #TODO: tweedie_variance_power and tweedie_link_power (for tweedie) to work\n",
    "        families = [\"gaussian\", \"gamma\"]\n",
    "        metric_name = 'mse'\n",
    "    output_models = dict()\n",
    "    best_metic_value = np.Inf\n",
    "    best_family = None\n",
    "    best_model = None\n",
    "    for family in families:\n",
    "        print(f\"searching in family {family}\")\n",
    "        if family == \"tweedie\":\n",
    "            hyper_parameters = {'alpha': list(np.arange(0,1.05,0.05)),\n",
    "    #                            'tweedie_variance_power': list(np.arange(1.05, 2, 0.5))\n",
    "                               }\n",
    "        if family == \"negativebinomial\":\n",
    "            hyper_parameters = {'alpha': list(np.arange(0,1.05,0.05)),\n",
    "    #                            'theta': list(np.arange(1.05, 2, 0.5))\n",
    "                               }\n",
    "        else:\n",
    "            hyper_parameters = {'alpha': list(np.arange(0,1.05,0.05))}\n",
    "\n",
    "        gs = H2OGridSearch(H2OGeneralizedLinearEstimator(family = family, nfolds = 5, seed = 20191106), \n",
    "                           hyper_parameters)\n",
    "\n",
    "        gs.train(y = target, x = train_cols, training_frame = train_h2o)\n",
    "        glm_grid_models = gs.get_grid(sort_by = 'mse')\n",
    "        # keep track of all models\n",
    "        if family == \"tweedie\":\n",
    "            output_models[family] = pd.DataFrame(\n",
    "                {'response': target,\n",
    "                 'family': family,\n",
    "                 'alpha': [glm_grid_models.get_hyperparams(e)[0] for e in range(len(hyper_parameters['alpha']))],\n",
    "    #              'tweedie_power': [glm_grid_models.get_hyperparams(e)[0] for e in range(len(hyper_parameters['tweedie_power']))],\n",
    "                 'metric_name': metric_name,\n",
    "                 'metric_value': list(glm_grid_models.get_grid(sort_by=\"mse\").mse(xval=True).values())})\n",
    "        else:\n",
    "            output_models[family] = pd.DataFrame(\n",
    "                {'response': target,\n",
    "                 'family': family,\n",
    "                 'alpha': [glm_grid_models.get_hyperparams(e)[0] for e in range(len(hyper_parameters['alpha']))],\n",
    "                 'metric_name': metric_name,\n",
    "                 'metric_value': list(glm_grid_models.get_grid(sort_by=\"mse\").mse(xval=True).values())})\n",
    "    #     sys.stdout = sys.__stdout__\n",
    "        # keep track of best model\n",
    "\n",
    "        family_best_model = glm_grid_models.models[0]\n",
    "\n",
    "        if 'class' in target:\n",
    "            if family_best_model.logloss(xval=True) < best_metic_value:\n",
    "                print(f\"new best model is {family}\")\n",
    "                best_model = family_best_model\n",
    "                best_metic_value = family_best_model.logloss(xval=True)\n",
    "                best_family = family\n",
    "        else:\n",
    "            if family_best_model.mse(xval=True) < best_metic_value:\n",
    "                print(f\"new best model is {family}\")\n",
    "                best_model = family_best_model\n",
    "                best_metic_value = family_best_model.mse(xval=True)\n",
    "                best_family = family\n",
    "    h2o.save_model(model=best_model, path=f\"./h2o_models/{target}\", force=True)\n",
    "    all_models[target] = deepcopy(output_models)\n",
    "    best_models[target] = {'best_model': best_model,\n",
    "                           'metric_value': metric_value,\n",
    "                           'best_metic_value': best_metic_value,\n",
    "                           'best_family': best_family}"
   ]
  },
  {
   "cell_type": "code",
   "execution_count": null,
   "metadata": {},
   "outputs": [],
   "source": [
    "h2o.save_model(model=best_model, path=f\"./h2o_models/{target}\", force=True)"
   ]
  },
  {
   "cell_type": "code",
   "execution_count": null,
   "metadata": {},
   "outputs": [],
   "source": [
    "target"
   ]
  },
  {
   "cell_type": "code",
   "execution_count": null,
   "metadata": {},
   "outputs": [],
   "source": [
    "# all_models = pd.concat(all_models, ignore_index = True)\n",
    "# all_models.sort_values(by=['metric_value', 'best_metric_value', inplace = True)\n",
    "for e in all_models:\n",
    "    all_models[e] = pd.concat(all_models[e], ignore_index = True)\n",
    "all_models = pd.concat(all_models, ignore_index = True)\n",
    "all_models.sort_values(by=['response', 'best_metric_value'], inplace = True)\n",
    "all_models                      "
   ]
  },
  {
   "cell_type": "code",
   "execution_count": null,
   "metadata": {},
   "outputs": [],
   "source": [
    "all_models"
   ]
  }
 ],
 "metadata": {
  "kernelspec": {
   "display_name": "Python 3",
   "language": "python",
   "name": "python3"
  },
  "language_info": {
   "codemirror_mode": {
    "name": "ipython",
    "version": 3
   },
   "file_extension": ".py",
   "mimetype": "text/x-python",
   "name": "python",
   "nbconvert_exporter": "python",
   "pygments_lexer": "ipython3",
   "version": "3.7.2"
  }
 },
 "nbformat": 4,
 "nbformat_minor": 1
}
